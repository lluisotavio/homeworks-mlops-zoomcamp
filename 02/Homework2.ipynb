{
 "cells": [
  {
   "cell_type": "markdown",
   "id": "488159f9",
   "metadata": {},
   "source": [
    "# Q1. Install MLflow"
   ]
  },
  {
   "cell_type": "code",
   "execution_count": null,
   "id": "8551efd9",
   "metadata": {},
   "outputs": [],
   "source": [
    "!pip install mlflow"
   ]
  },
  {
   "cell_type": "code",
   "execution_count": 1,
   "id": "0c9b4749",
   "metadata": {},
   "outputs": [
    {
     "name": "stdout",
     "output_type": "stream",
     "text": [
      "mlflow, version 1.26.1\r\n"
     ]
    }
   ],
   "source": [
    "!mlflow --version"
   ]
  },
  {
   "cell_type": "markdown",
   "id": "e20a200a",
   "metadata": {},
   "source": [
    "# Q2. Download and preprocess the data\n",
    "How many files were saved to OUTPUT_FOLDER?"
   ]
  },
  {
   "cell_type": "code",
   "execution_count": 4,
   "id": "722a6b0f",
   "metadata": {},
   "outputs": [],
   "source": [
    "!python preprocess_data.py --raw_data_path data/raw --dest_path data/processed"
   ]
  },
  {
   "cell_type": "code",
   "execution_count": 5,
   "id": "22dac6e8",
   "metadata": {},
   "outputs": [
    {
     "name": "stdout",
     "output_type": "stream",
     "text": [
      "4\r\n"
     ]
    }
   ],
   "source": [
    "!ls data/processed | wc -l"
   ]
  },
  {
   "cell_type": "code",
   "execution_count": null,
   "id": "96d46162",
   "metadata": {},
   "outputs": [],
   "source": [
    "!python train.py --data_path data/processed"
   ]
  },
  {
   "cell_type": "markdown",
   "id": "07720718",
   "metadata": {},
   "source": [
    "# Q3. Number of parameters logged with autolog"
   ]
  },
  {
   "cell_type": "markdown",
   "id": "873f2f3c",
   "metadata": {},
   "source": [
    "17"
   ]
  },
  {
   "cell_type": "markdown",
   "id": "045070d0",
   "metadata": {},
   "source": [
    "# Q4: Parameter for launching the tracking server"
   ]
  },
  {
   "cell_type": "markdown",
   "id": "03dd6330",
   "metadata": {},
   "source": [
    "--artifacts-destination"
   ]
  },
  {
   "cell_type": "markdown",
   "id": "da928b5a",
   "metadata": {},
   "source": [
    "# Q5. Tune the hyperparameters of the model"
   ]
  },
  {
   "cell_type": "code",
   "execution_count": 2,
   "id": "0c5ebf70",
   "metadata": {},
   "outputs": [
    {
     "name": "stdout",
     "output_type": "stream",
     "text": [
      "2022/05/30 12:36:26 INFO mlflow.tracking.fluent: Experiment with name 'random-forest-hyperopt' does not exist. Creating a new experiment.\n",
      "100%|█████████| 50/50 [05:00<00:00,  6.00s/trial, best loss: 6.6284257482044735]\n"
     ]
    }
   ],
   "source": [
    "!python hpo.py --data_path data/processed "
   ]
  },
  {
   "cell_type": "markdown",
   "id": "c5379955",
   "metadata": {},
   "source": [
    "6.628"
   ]
  },
  {
   "cell_type": "markdown",
   "id": "88f193c0",
   "metadata": {},
   "source": [
    "# Q6. Promote the best model to the model registry"
   ]
  },
  {
   "cell_type": "code",
   "execution_count": 4,
   "id": "f91862b5",
   "metadata": {},
   "outputs": [
    {
     "name": "stdout",
     "output_type": "stream",
     "text": [
      "2022/05/30 16:00:31 WARNING mlflow.utils.autologging_utils: MLflow autologging encountered a warning: \"/home/lluisotavio/.cache/pypoetry/virtualenvs/homeworks-mlops-zoomcamp-ovnrSrLJ-py3.8/lib/python3.8/site-packages/_distutils_hack/__init__.py:30: UserWarning: Setuptools is replacing distutils.\"\n",
      "Registered model 'PROD_PRED_HW' already exists. Creating a new version of this model...\n",
      "2022/05/30 16:02:28 INFO mlflow.tracking._model_registry.client: Waiting up to 300 seconds for model version to finish creation.                     Model name: PROD_PRED_HW, version 2\n",
      "Created version '2' of model 'PROD_PRED_HW'.\n"
     ]
    }
   ],
   "source": [
    "!python register_model.py --data_path data/processed --top_n 5"
   ]
  },
  {
   "cell_type": "code",
   "execution_count": null,
   "id": "0c044ee4",
   "metadata": {},
   "outputs": [],
   "source": []
  }
 ],
 "metadata": {
  "kernelspec": {
   "display_name": "Python 3 (ipykernel)",
   "language": "python",
   "name": "python3"
  },
  "language_info": {
   "codemirror_mode": {
    "name": "ipython",
    "version": 3
   },
   "file_extension": ".py",
   "mimetype": "text/x-python",
   "name": "python",
   "nbconvert_exporter": "python",
   "pygments_lexer": "ipython3",
   "version": "3.8.10"
  }
 },
 "nbformat": 4,
 "nbformat_minor": 5
}
