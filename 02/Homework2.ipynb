{
 "cells": [
  {
   "cell_type": "markdown",
   "id": "488159f9",
   "metadata": {},
   "source": [
    "# Q1. Install MLflow"
   ]
  },
  {
   "cell_type": "code",
   "execution_count": null,
   "id": "8551efd9",
   "metadata": {},
   "outputs": [],
   "source": [
    "!pip install mlflow"
   ]
  },
  {
   "cell_type": "code",
   "execution_count": 1,
   "id": "0c9b4749",
   "metadata": {},
   "outputs": [
    {
     "name": "stdout",
     "output_type": "stream",
     "text": [
      "mlflow, version 1.26.1\r\n"
     ]
    }
   ],
   "source": [
    "!mlflow --version"
   ]
  },
  {
   "cell_type": "markdown",
   "id": "e20a200a",
   "metadata": {},
   "source": [
    "# Q2. Download and preprocess the data\n",
    "How many files were saved to OUTPUT_FOLDER?"
   ]
  },
  {
   "cell_type": "code",
   "execution_count": 5,
   "id": "722a6b0f",
   "metadata": {},
   "outputs": [],
   "source": [
    "!python preprocess_data.py --raw_data_path data/raw --dest_path data/processed"
   ]
  },
  {
   "cell_type": "code",
   "execution_count": 6,
   "id": "22dac6e8",
   "metadata": {},
   "outputs": [
    {
     "name": "stdout",
     "output_type": "stream",
     "text": [
      "4\r\n"
     ]
    }
   ],
   "source": [
    "!ls data/processed | wc -l"
   ]
  },
  {
   "cell_type": "code",
   "execution_count": 10,
   "id": "96d46162",
   "metadata": {},
   "outputs": [],
   "source": [
    "!python train.py --data_path data/processed"
   ]
  },
  {
   "cell_type": "markdown",
   "id": "07720718",
   "metadata": {},
   "source": [
    "# Q3. Number of parameters logged with autolog"
   ]
  },
  {
   "cell_type": "markdown",
   "id": "873f2f3c",
   "metadata": {},
   "source": [
    "17"
   ]
  },
  {
   "cell_type": "markdown",
   "id": "045070d0",
   "metadata": {},
   "source": [
    "# Q4: Parameter for launching the tracking server"
   ]
  },
  {
   "cell_type": "markdown",
   "id": "03dd6330",
   "metadata": {},
   "source": [
    "--artifacts-destination"
   ]
  },
  {
   "cell_type": "markdown",
   "id": "da928b5a",
   "metadata": {},
   "source": [
    "# Q5. Tune the hyperparameters of the model"
   ]
  },
  {
   "cell_type": "code",
   "execution_count": null,
   "id": "0c5ebf70",
   "metadata": {},
   "outputs": [],
   "source": [
    "!python hpo.py --data_path data/processed "
   ]
  },
  {
   "cell_type": "markdown",
   "id": "c5379955",
   "metadata": {},
   "source": [
    "6.628"
   ]
  },
  {
   "cell_type": "markdown",
   "id": "88f193c0",
   "metadata": {},
   "source": [
    "# Q6. Promote the best model to the model registry"
   ]
  },
  {
   "cell_type": "code",
   "execution_count": null,
   "id": "f91862b5",
   "metadata": {},
   "outputs": [],
   "source": [
    "!python register_model.py --data_path data/processed --top_n 5"
   ]
  },
  {
   "cell_type": "code",
   "execution_count": null,
   "id": "0c044ee4",
   "metadata": {},
   "outputs": [],
   "source": []
  }
 ],
 "metadata": {
  "kernelspec": {
   "display_name": "Python 3 (ipykernel)",
   "language": "python",
   "name": "python3"
  },
  "language_info": {
   "codemirror_mode": {
    "name": "ipython",
    "version": 3
   },
   "file_extension": ".py",
   "mimetype": "text/x-python",
   "name": "python",
   "nbconvert_exporter": "python",
   "pygments_lexer": "ipython3",
   "version": "3.8.13"
  }
 },
 "nbformat": 4,
 "nbformat_minor": 5
}
