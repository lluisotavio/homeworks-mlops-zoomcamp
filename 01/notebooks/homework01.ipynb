{
 "cells": [
  {
   "cell_type": "markdown",
   "id": "b6a13271",
   "metadata": {},
   "source": [
    "# [Homework 01](https://github.com/DataTalksClub/mlops-zoomcamp/blob/main/01-intro/homework.md)"
   ]
  },
  {
   "cell_type": "markdown",
   "id": "0ecfbb60",
   "metadata": {},
   "source": [
    "## Model for predicting the duration of a ride"
   ]
  },
  {
   "cell_type": "markdown",
   "id": "4aa288cd",
   "metadata": {},
   "source": [
    "![](data:image/png;base64,iVBORw0KGgoAAAANSUhEUgAAAOEAAADhCAMAAAAJbSJIAAAAz1BMVEUZFxz91AD95AH93QD95wD94ADy8vIaGhr94QH+0gH92wD96AH+3gD91QH+4wD9zwD+ywD9wwD91gD+1wD92QH92QD9xwAAAB0AAAD4+PidnZ39owD9vgAQEBDNzc0REBwIChxUVFT14clkRRZgYGANFBrgxglFPBn/qQDtzwTVuQijkRGznw/KtQtORBn/mwFwXxbNsAuWgxOlixIkIBstJxo1LxlkWRfDpQ1USxi6pw3sxwR5axWAchRaNwC4mw6EaEi0nIHcx66zs7Nvb21g8bFoAAAPKElEQVR4nO2deXvaOhbGFRs3ru34JixR2rmt3bm9MECSSYCELHA72/f/TCNvslb7yECCCe8fTR5Xy/lxFsmCYHR+fv5brs+ZTojOzs663W6v1ycaDLxUdqYgCJxUbqGQyCrVkeTrJDdlxkmGpXNkU5K5cysykwaDxMBej9hKLE4MzxkKJEKH9IC9FHDAAwYFIEPH8EHRKkk5RkpZIAY84iBF7OkRUQWg7ECRz9XiQdk0mEpHahgLN2oQEY1ShlDhQ4EQwGhEWeFEPk4FQtmHAiETpVpA3oVQvgY+9OGMjBNrEREEEMK3GZyCkoWsYpTClEc8R1pARYTygNvH00FKjMpITQuqjIgUgF0KWEYoiG8LeAKkzCi4kY1UNSJSAVZEqD48t4bHQ+oY5UjVrBmoYiFkAVkHMkvg9t0nM3ZKxlDFWIOo8OFZVRWVVvldMar4MsLKiiqHKZKDtA7QVfBtGY+HFH1ohlgS6gG1SbhTPpmxKkw1iBmhGeAb8ikZKxAHSkSkAuQ2o/xWVArQnfIxjGJJlRHposEjIj0gX0bVDtw5n8QIiFQeUSDM1nqW0Jaq6FsjSrnIVVT2fnFAVwyJkN2tDdRZuEc+DDVhmrhwIG1QS0J2O8oC8kH69nwqRlfyIr97Y5d91BzwzfhKRnW1qUZEVYDqCH0HPoFRGak6RMRtuKsB382BEqKlTUYGMU9FZAj4bnwCIxyR82F69MRWUS3iO0oJyBCmd/ycD/k0VJSZ/QJUI/LFhktE1DpAU0QkpGELAGsR+UREijojAoZ7BiisGTWICAS4X3yJWDeKiHw5ZQgHfWml2McQzaQL1NyJg4xQilJ5MdxXRAlQ3NjoorQK8L2hBFUiClGqSMP9B6xE5BIRiTHK1Jm9BlQhCrUmWxORHtDZb8BaxNyJSFllWgHIIapWjAwRyS7kk3CPASVEIRUNCPda+mJTEFaUmbAFgLWI6ExeCtsFKMQpd6OYnJ0iOUaLMtMWQAUi60SkBWxDDhaS6imDiLptj9FEmnqaLvuaKG1LIc0krfpilA5anobVichEqbAWtgiQTUQ5SnUx2ipAHpF3Ito4CX1/PBz7/k7tr5c+TikhH6PgJPSdNcIYR+vxOzNmiHKc9hCfhaYx6r9gjBJhfP3uiLkTXT4TEX3PV1oNAfKvM76UcerDOu1Kiijts1HKE8LGtIYlIEEcWgb2dPxOvV9SkRwHI6ryUFdJIfKXMUMY3Ro40X95XpzC9Li2O1BCBSLiCo0ZYGizLiROHIOd6N9hEw0bImaEjWM0tG4EwmuYIQRwhvH6BqjrRRwBTVI5EW3gws61QDiFErqY1CXoUYXvRNCRVcVGk4cgWS+iDy1Yx3CCcd6UMS63MPuR/JtfcInHlz7QpnJBZPOwIaAbDgXCm7C+U9rxBkd+Zs8w15iMNhyT/nb6IxwPhw7ZK6XNrSl+hhLK6wWXh2aAxNLTiCME97vBcWoyeY1yLf0x+ZfMTn6cuqGDcGQt8bJjTJgh8nnY1IWu25ly6+G6UwFldcoQLgnHz8slWWaWy6m/xkm6uWSNxSt/ifHYX+FVU0I2DzdwIZn7sVwQ4wd9s441vF5fOwUjJXRDspwj/OL7HQfHt/EpaUHqFyaAN51OM8ISMXMi2sCFxED7ofAiPh0rszDsdMYvq0W2rIUiYWJQWqFIOCxsjF8Ior+KY1Jq3Y0JM0RK2ASQ2OquMI6JRXjlyICh5bs361Fy75Fueh6LAioTWgs8I2E5IkjJXhCTl6spoeDEjfIwkT+erpar6Vg0gdBZw+lzQZfvXEMNYbLwkKZJi9COIxw9Nibcbh5mKMkmmnWgk1waX99xdNWE/ig+fXx8RPHSt0YY3STVZmt5KG9pAFRVWxA/HL+sSeLFSFB0WnTnCCOy2yNbgBvf8qekhK6TX6fJpmeF7zbOw0GjPAw7k9lKq+XtQnJeykcsL/MQ05XFicnN8x1Oc5TUmkdMEtLtkGo6ZHx4u0EemrvQGt+m1UUnGY4sJcT09ZBS2Y/M2mnbxCg72xA75Bc7zK/mF8m+4AG6H+QJUyci4ywkpU6Kv0oR58V312O/w+SqX7E5kBX6JoDCtkbMw3rZigisosO3s2FINjR0gIbHlKFbYZQo1XpoAwE7a1wPRkNzsX6xfStk+zuT60Z6Gfuh1ioZUbfiAwQDTJy3vB52OoJV4czo5p7T7dCCE+oqTa3Cl3rCiDhvNJs4bGgWGoEjQBUT92BEXaWplzWtMZE4b7F6GXcsVUiRRbw5IEpOgsDJSJ2IDIO0JFTXG/w4JXVFkzDucDPA5AbNiNDOCU0qKSUkS7PKhBdVaNLOs7RPsyyM065QwLLWFIRQxIKQ3KAqMpIAVnXuPEZpo2EDTdKzWXwDrKf0IwvGlSYnjG59x4llQruy8zjpG9/5wOMcbtHPztfxDFhrNq400W3HsRWEXlXfMD1fJXcSsKkEuenLs4Qm4qaVphFh1pfcQgGN5OXfpiHuA5tzhA0qTSPCzio2Kxb8zOlmCrxeyLUUOk+Zh+aED1F6lAGcSlCYnrCDS41US6GE4QY+zArNqiGhk5caY0LmHW6IKKEVeArCfkVXZ5KaOA2BU4lK54uXFrC5XEth2oAw64onDnAqUZ1RUmoW4BdIqqUwbUBoZYXGg04lTZ2XGmh7qZYCp2lOmO5oogdolMlTZ6XmHhoD0r4UOE1zQi8vNNCpROWlBpzHPCF4muaEmxaa4iW6A79EO/FhRZK4hkEmy0rD/NGw1NDVAii3jlDbkxYKg9mEEbJS1YePwJ1iANWcMPUAQh2DyZRzk+UG3ONNCYMgy6LQYDJBRSa74B7seghVc8KsEs7h5slD5NUY/iK9KaFTFBqDyUSFeakBd3hTws0LDS01nlGpKU/1YWpMaKU3sGiDNDQvNcL7+MBJ8jPrESEsj8AAhPkhhAWfSpZzY1ZqhPctgJPcz1JN3cBOf1nFGEIYFHd38KkUg/TTQcClphGh7eQf0iLzZX+oT/YqUQ1hEFrZ2SO+3+yDxH5WapL3eswIIa11hwBkIzdeRJWE1nD2PHpI03e0mW4X+SirFxdSbgwICcZEqaHn2g49rFcSWiR1izeGow1VjBLj0RjgRhPClfa0/Tq089N6NWE4YxJ1e4oXgEWD+TxNjdyK94zwU2C/UkKpK/2/bQuvXYDl9JN7NRpXWBndhl4Yawkd+HvGpoj97REGkyorF7YXZvcNKsLwOd4V4dDeC0L31uCDDWaEk+BI+A6EsbTRgypKCzc7FpiQfpfn7gkjvHoaDp/uTD6RU+A8zCfDyfyB3SLWE7J/UfIWhHj0GgbkZj8cPsSmgLPkjQiyr2IW1/0jjEZ2blLQX5h5EU+tfDjrFzVl/wjJhgc2oCRy00XHs+5iI8Le2xHGq7C8aj2bOBEPSxa73ATvmw/J7q686tR98IhV9MCihA/FgHtHyDjCC+5NCG8Z75NNkiFh9rfc1fKqCb2BQwmlvg4lnHjlVfvJiNBlB6SE9540m6D0b7m7b0b4ZJdXg7lJqVmwKMECmRB2344wvmM8EY6MKg3j/tKWvSMkdlInBiZByodpea9iQliHuB3C6KGbIwavsXY0pfAsLADLTc3++RDFi0lyfhQ4T8rP81cirvqO7dlOnzlsgBLm36JUKa/qJCIaOX3ngRKKfR1u5/08vX+aN/mcMI7XT/dPa+5w9t6rMzz9FqXi+4Mr5dxVndPYUML8HqjZDWN698RdABB2oYSD/lJ71jZ3+nDCbQpMCAnT/sB5vVerG/QPgrCvPdca9L29JUwfBAEmlDVIP/DgBE+HSjjozxOtF5gsCftMeHKSPeHJXGfZ+4fRaa8XlIRiq2CHhNJkgtJvEkbFw1caEMbZTCzhidTqXQm576DdGeHuzrwn+0Ho7eatJ6KozkD6PcJNExFG2NvZe08zu56w/LbrHRLav3aCiB/rYrQg/Jw9GWFLhGNFu+BX8mfDkolRxZ8S81J0xXh5VguYPh2BPv2ha6ySsFsSvvYULb2T6epOtDN6voNKAhzdzSa2aiZOxdMf0id47Jaw2xvYnhiq+An6uR9rIXadu96g3sC3JCSNuzIhwMhUwanYdeZB+qWE5VNYgLOxRu89ofCcGeB0jNF7Tlg+Z6ZpmLaMMFkxDNU9oYRdmxJ2NY3PFITAiVSEkH7lM7sKLxqqe5ZvqRe9E7s4azvRESp82ANOFIhvNuI55MVRPjvPTHZ2bh0/22dettxFC+2L6z2KZr5CCT1xLcX3gK7qpwOaaZBtxxJn9LID1YoXdyCccuMVKNIS9YTTWjwCupAlbBSmZ176adp5Yqr3K/m1ymp7zp3QLXuaeFbN88R1HZ1AvK96Sid4xnLqyXz+mlF5r/P5xK5s/PprTjUJ4IAkAE6YrvceELAgzJ+W24jwrDcY0OmYX3WGloLmYK4u2xVkaAEoPfH4cKR7pvPh6IMRHiIiBTwStlYCYbliHIooHyE8ZxAPhfEzA0gJDwnxM0t4friEv1HCwwtTzoUl4eEg8i78GISJOMrWi9Il+jCEB4XIAX4gwgNC5AE/EuHBIAqA5+jyUmRsNaTId3lJCC9lyPe2s6FkvMuCkGGknmypznm+kvBQECXAS3RxcXkwkDLe5cUFIbxQQb63sQ2kwrsoCBlGxpOt1CXPRwh/v7g4HEgJ7+Lid/Q70WFAqvCIUsISUZmTbZBMlwPmhBzj5UX7EAu8S5GvJOQgL9sqCY8n1GRka6SgUxDyKdkWTs5mEUgi1BaefVUVnZZQdGU7pCHREbYNUo9RQdgaymqEGsIWMNYB1BLuOWO9+eifov7Wbkk8SMPGXP1HKaaB+urbNqbWSXBMP/T3Uv/6o9Bf/y6v/ucvevkPk8Z/7ayxkRl/oE9UX35c/Znr6usXevU7vfrnFdP4p0nj+pG/mDQ2MeNPjvBb8bBvvjV9Bvg3dui6xlcmI7OEtSMbmXF6JDwSHgmPhEfCIyGA8EupH1dUX8ur38urV0zjnyaNjUaub/zJxAz09dCFGNrv5Yvwtbz6o7z6yaTxl+02/tl0ZFQGLGlNA/krDeRvP8sU+fTNoPGXq7rGP5iRaxsbmcGOfCQ8Eh4Jj4RHwiMhgPAbFb960qvMUvvpqq4xt4hvtXFjM9CPUv/9TvW1vPq/8ur3NjZu5c7byIwPcPd0JDwSHgmPhEfCI+GR8AMQ/h+cP2bulFb13wAAAABJRU5ErkJggg==)"
   ]
  },
  {
   "cell_type": "markdown",
   "id": "1890ec08",
   "metadata": {},
   "source": [
    "\n",
    "\n"
   ]
  },
  {
   "cell_type": "markdown",
   "id": "44eb5271",
   "metadata": {},
   "source": [
    "**Read the data for January. How many records are there?**"
   ]
  },
  {
   "cell_type": "code",
   "execution_count": 126,
   "id": "d6184f53",
   "metadata": {},
   "outputs": [],
   "source": [
    "import pandas as pd"
   ]
  },
  {
   "cell_type": "code",
   "execution_count": 127,
   "id": "8d2b8671",
   "metadata": {},
   "outputs": [],
   "source": [
    "df_jan = pd.read_parquet('../data/fhv_tripdata_2021-01.parquet')"
   ]
  },
  {
   "cell_type": "code",
   "execution_count": 128,
   "id": "6201d44c",
   "metadata": {},
   "outputs": [
    {
     "data": {
      "text/plain": [
       "1154112"
      ]
     },
     "execution_count": 128,
     "metadata": {},
     "output_type": "execute_result"
    }
   ],
   "source": [
    "df_jan.shape[0]"
   ]
  },
  {
   "cell_type": "markdown",
   "id": "3ba5a988",
   "metadata": {},
   "source": [
    "**What's the average trip duration in January?**"
   ]
  },
  {
   "cell_type": "code",
   "execution_count": 129,
   "id": "d5fb8330",
   "metadata": {},
   "outputs": [
    {
     "data": {
      "text/plain": [
       "19.167224093791013"
      ]
     },
     "execution_count": 129,
     "metadata": {},
     "output_type": "execute_result"
    }
   ],
   "source": [
    "(df_jan.dropOff_datetime - df_jan.pickup_datetime).dt.total_seconds().mean()/60"
   ]
  },
  {
   "cell_type": "markdown",
   "id": "45f80539",
   "metadata": {},
   "source": [
    "**Let's remove them and keep only the records where the duration was between 1 and 60 minutes (inclusive). How many records did you drop?**"
   ]
  },
  {
   "cell_type": "code",
   "execution_count": 130,
   "id": "40c8ec54",
   "metadata": {},
   "outputs": [],
   "source": [
    "df_jan['ride_minutes'] = (df_jan.dropOff_datetime - df_jan.pickup_datetime).dt.total_seconds()/60"
   ]
  },
  {
   "cell_type": "code",
   "execution_count": 131,
   "id": "7ddb02c1",
   "metadata": {},
   "outputs": [],
   "source": [
    "mask_outliers = (df_jan['ride_minutes'] >= 1) & (df_jan['ride_minutes'] <= 60)"
   ]
  },
  {
   "cell_type": "code",
   "execution_count": 132,
   "id": "a08512ed",
   "metadata": {},
   "outputs": [],
   "source": [
    "df_jan = df_jan[mask_outliers] "
   ]
  },
  {
   "cell_type": "code",
   "execution_count": 133,
   "id": "82b03c3f",
   "metadata": {},
   "outputs": [
    {
     "data": {
      "text/plain": [
       "44286"
      ]
     },
     "execution_count": 133,
     "metadata": {},
     "output_type": "execute_result"
    }
   ],
   "source": [
    "sum(~mask_outliers)"
   ]
  },
  {
   "cell_type": "markdown",
   "id": "98e747a9",
   "metadata": {},
   "source": [
    "**What's the fractions of missing values for the pickup location ID? I.e. fraction of \"-1\"s after you filled the NAs.**"
   ]
  },
  {
   "cell_type": "code",
   "execution_count": 134,
   "id": "f4f35423",
   "metadata": {},
   "outputs": [],
   "source": [
    "df_jan[['PUlocationID', 'DOlocationID']] = df_jan[['PUlocationID', 'DOlocationID']].fillna(-1)"
   ]
  },
  {
   "cell_type": "code",
   "execution_count": 135,
   "id": "0177ed63",
   "metadata": {},
   "outputs": [
    {
     "data": {
      "text/plain": [
       "0.8352732770722617"
      ]
     },
     "execution_count": 135,
     "metadata": {},
     "output_type": "execute_result"
    }
   ],
   "source": [
    "sum(df_jan.PUlocationID == -1)/df_jan.PUlocationID.shape[0]"
   ]
  },
  {
   "cell_type": "markdown",
   "id": "40066bf6",
   "metadata": {},
   "source": [
    "**One-hot encoding. What's the dimensionality of this matrix? (The number of columns).**"
   ]
  },
  {
   "cell_type": "code",
   "execution_count": 137,
   "id": "3d43d3fb",
   "metadata": {},
   "outputs": [],
   "source": [
    "from sklearn.feature_extraction import DictVectorizer\n",
    "df_train = df_jan.copy(deep=True)\n",
    "df_train[['PUlocationID', 'DOlocationID']] = df_train[['PUlocationID', 'DOlocationID']].astype(str)\n",
    "dv = DictVectorizer()\n",
    "X_train = dv.fit_transform(df_train[['PUlocationID', 'DOlocationID']].to_dict(orient='records'))\n",
    "y_train = df_train['ride_minutes']"
   ]
  },
  {
   "cell_type": "code",
   "execution_count": 138,
   "id": "f5fc7302",
   "metadata": {},
   "outputs": [
    {
     "data": {
      "text/plain": [
       "525"
      ]
     },
     "execution_count": 138,
     "metadata": {},
     "output_type": "execute_result"
    }
   ],
   "source": [
    "X_train.shape[1]"
   ]
  },
  {
   "cell_type": "markdown",
   "id": "11f7ede9",
   "metadata": {},
   "source": [
    "**Now let's use the feature matrix from the previous step to train a model.\n",
    "Train a plain linear regression model with default parameters\n",
    "Calculate the RMSE of the model on the training data\n",
    "What's the RMSE on train?**"
   ]
  },
  {
   "cell_type": "code",
   "execution_count": 139,
   "id": "6e9e4c60",
   "metadata": {},
   "outputs": [
    {
     "data": {
      "text/html": [
       "<style>#sk-container-id-6 {color: black;background-color: white;}#sk-container-id-6 pre{padding: 0;}#sk-container-id-6 div.sk-toggleable {background-color: white;}#sk-container-id-6 label.sk-toggleable__label {cursor: pointer;display: block;width: 100%;margin-bottom: 0;padding: 0.3em;box-sizing: border-box;text-align: center;}#sk-container-id-6 label.sk-toggleable__label-arrow:before {content: \"▸\";float: left;margin-right: 0.25em;color: #696969;}#sk-container-id-6 label.sk-toggleable__label-arrow:hover:before {color: black;}#sk-container-id-6 div.sk-estimator:hover label.sk-toggleable__label-arrow:before {color: black;}#sk-container-id-6 div.sk-toggleable__content {max-height: 0;max-width: 0;overflow: hidden;text-align: left;background-color: #f0f8ff;}#sk-container-id-6 div.sk-toggleable__content pre {margin: 0.2em;color: black;border-radius: 0.25em;background-color: #f0f8ff;}#sk-container-id-6 input.sk-toggleable__control:checked~div.sk-toggleable__content {max-height: 200px;max-width: 100%;overflow: auto;}#sk-container-id-6 input.sk-toggleable__control:checked~label.sk-toggleable__label-arrow:before {content: \"▾\";}#sk-container-id-6 div.sk-estimator input.sk-toggleable__control:checked~label.sk-toggleable__label {background-color: #d4ebff;}#sk-container-id-6 div.sk-label input.sk-toggleable__control:checked~label.sk-toggleable__label {background-color: #d4ebff;}#sk-container-id-6 input.sk-hidden--visually {border: 0;clip: rect(1px 1px 1px 1px);clip: rect(1px, 1px, 1px, 1px);height: 1px;margin: -1px;overflow: hidden;padding: 0;position: absolute;width: 1px;}#sk-container-id-6 div.sk-estimator {font-family: monospace;background-color: #f0f8ff;border: 1px dotted black;border-radius: 0.25em;box-sizing: border-box;margin-bottom: 0.5em;}#sk-container-id-6 div.sk-estimator:hover {background-color: #d4ebff;}#sk-container-id-6 div.sk-parallel-item::after {content: \"\";width: 100%;border-bottom: 1px solid gray;flex-grow: 1;}#sk-container-id-6 div.sk-label:hover label.sk-toggleable__label {background-color: #d4ebff;}#sk-container-id-6 div.sk-serial::before {content: \"\";position: absolute;border-left: 1px solid gray;box-sizing: border-box;top: 0;bottom: 0;left: 50%;z-index: 0;}#sk-container-id-6 div.sk-serial {display: flex;flex-direction: column;align-items: center;background-color: white;padding-right: 0.2em;padding-left: 0.2em;position: relative;}#sk-container-id-6 div.sk-item {position: relative;z-index: 1;}#sk-container-id-6 div.sk-parallel {display: flex;align-items: stretch;justify-content: center;background-color: white;position: relative;}#sk-container-id-6 div.sk-item::before, #sk-container-id-6 div.sk-parallel-item::before {content: \"\";position: absolute;border-left: 1px solid gray;box-sizing: border-box;top: 0;bottom: 0;left: 50%;z-index: -1;}#sk-container-id-6 div.sk-parallel-item {display: flex;flex-direction: column;z-index: 1;position: relative;background-color: white;}#sk-container-id-6 div.sk-parallel-item:first-child::after {align-self: flex-end;width: 50%;}#sk-container-id-6 div.sk-parallel-item:last-child::after {align-self: flex-start;width: 50%;}#sk-container-id-6 div.sk-parallel-item:only-child::after {width: 0;}#sk-container-id-6 div.sk-dashed-wrapped {border: 1px dashed gray;margin: 0 0.4em 0.5em 0.4em;box-sizing: border-box;padding-bottom: 0.4em;background-color: white;}#sk-container-id-6 div.sk-label label {font-family: monospace;font-weight: bold;display: inline-block;line-height: 1.2em;}#sk-container-id-6 div.sk-label-container {text-align: center;}#sk-container-id-6 div.sk-container {/* jupyter's `normalize.less` sets `[hidden] { display: none; }` but bootstrap.min.css set `[hidden] { display: none !important; }` so we also need the `!important` here to be able to override the default hidden behavior on the sphinx rendered scikit-learn.org. See: https://github.com/scikit-learn/scikit-learn/issues/21755 */display: inline-block !important;position: relative;}#sk-container-id-6 div.sk-text-repr-fallback {display: none;}</style><div id=\"sk-container-id-6\" class=\"sk-top-container\"><div class=\"sk-text-repr-fallback\"><pre>LinearRegression()</pre><b>In a Jupyter environment, please rerun this cell to show the HTML representation or trust the notebook. <br />On GitHub, the HTML representation is unable to render, please try loading this page with nbviewer.org.</b></div><div class=\"sk-container\" hidden><div class=\"sk-item\"><div class=\"sk-estimator sk-toggleable\"><input class=\"sk-toggleable__control sk-hidden--visually\" id=\"sk-estimator-id-6\" type=\"checkbox\" checked><label for=\"sk-estimator-id-6\" class=\"sk-toggleable__label sk-toggleable__label-arrow\">LinearRegression</label><div class=\"sk-toggleable__content\"><pre>LinearRegression()</pre></div></div></div></div></div>"
      ],
      "text/plain": [
       "LinearRegression()"
      ]
     },
     "execution_count": 139,
     "metadata": {},
     "output_type": "execute_result"
    }
   ],
   "source": [
    "from sklearn.linear_model import LinearRegression\n",
    "LR = LinearRegression()\n",
    "LR.fit(X_train, y_train)"
   ]
  },
  {
   "cell_type": "markdown",
   "id": "fef4cfb6",
   "metadata": {},
   "source": [
    "**Evaluating the model: RMSE using training set**"
   ]
  },
  {
   "cell_type": "code",
   "execution_count": 140,
   "id": "3a35e1c0",
   "metadata": {},
   "outputs": [
    {
     "data": {
      "text/plain": [
       "10.5285194284187"
      ]
     },
     "execution_count": 140,
     "metadata": {},
     "output_type": "execute_result"
    }
   ],
   "source": [
    "from sklearn.metrics import mean_squared_error\n",
    "\n",
    "mean_squared_error(LR.predict(X_train), y_train, squared=False)"
   ]
  },
  {
   "cell_type": "markdown",
   "id": "2b6bcb46",
   "metadata": {},
   "source": [
    "**Evaluating the model: RMSE using validation set**"
   ]
  },
  {
   "cell_type": "code",
   "execution_count": 143,
   "id": "20dfdf15",
   "metadata": {},
   "outputs": [],
   "source": [
    "df_feb =pd.read_parquet('../data/fhv_tripdata_2021-02.parquet')"
   ]
  },
  {
   "cell_type": "code",
   "execution_count": 144,
   "id": "0959035b",
   "metadata": {},
   "outputs": [],
   "source": [
    "df_feb['ride_minutes'] = (df_feb.dropOff_datetime - df_feb.pickup_datetime).dt.total_seconds()/60"
   ]
  },
  {
   "cell_type": "code",
   "execution_count": 145,
   "id": "2c53b97e",
   "metadata": {},
   "outputs": [],
   "source": [
    "mask_outliers = (df_feb['ride_minutes'] >= 1) & (df_feb['ride_minutes'] <= 60)"
   ]
  },
  {
   "cell_type": "code",
   "execution_count": 146,
   "id": "76442300",
   "metadata": {},
   "outputs": [],
   "source": [
    "df_feb = df_feb[mask_outliers]"
   ]
  },
  {
   "cell_type": "code",
   "execution_count": 147,
   "id": "c62c6460",
   "metadata": {},
   "outputs": [],
   "source": [
    "df_feb[['PUlocationID', 'DOlocationID']] = df_feb[['PUlocationID', 'DOlocationID']].fillna(-1)"
   ]
  },
  {
   "cell_type": "code",
   "execution_count": 148,
   "id": "1d6e28c3",
   "metadata": {},
   "outputs": [],
   "source": [
    "df_val = df_feb[['PUlocationID', 'DOlocationID', 'ride_minutes']].dropna()\n",
    "df_val[['PUlocationID', 'DOlocationID']] = df_val[['PUlocationID', 'DOlocationID']].astype(str)\n",
    "X_val = dv.transform(df_val[['PUlocationID', 'DOlocationID']].to_dict(orient='records'))\n",
    "y_val = df_val['ride_minutes']"
   ]
  },
  {
   "cell_type": "code",
   "execution_count": 149,
   "id": "c5cfd385",
   "metadata": {},
   "outputs": [
    {
     "data": {
      "text/plain": [
       "11.014285518755779"
      ]
     },
     "execution_count": 149,
     "metadata": {},
     "output_type": "execute_result"
    }
   ],
   "source": [
    "mean_squared_error(LR.predict(X_val), y_val, squared=False)"
   ]
  }
 ],
 "metadata": {
  "kernelspec": {
   "display_name": "Python 3 (ipykernel)",
   "language": "python",
   "name": "python3"
  },
  "language_info": {
   "codemirror_mode": {
    "name": "ipython",
    "version": 3
   },
   "file_extension": ".py",
   "mimetype": "text/x-python",
   "name": "python",
   "nbconvert_exporter": "python",
   "pygments_lexer": "ipython3",
   "version": "3.8.13"
  }
 },
 "nbformat": 4,
 "nbformat_minor": 5
}
